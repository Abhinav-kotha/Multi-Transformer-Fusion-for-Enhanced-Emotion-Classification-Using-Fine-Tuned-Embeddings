{
 "cells": [
  {
   "cell_type": "code",
   "execution_count": null,
   "metadata": {},
   "outputs": [],
   "source": [
    "from datasets import load_dataset\n",
    "import copy\n",
    "\n",
    "# Load Hugging Face Emotion dataset\n",
    "dataset = load_dataset(\"dair-ai/emotion\")\n",
    "# Shuffle each split\n",
    "dataset[\"train\"] = dataset[\"train\"].shuffle(seed=42)\n",
    "dataset[\"test\"] = dataset[\"test\"].shuffle(seed=42)\n",
    "dataset[\"validation\"] = dataset[\"validation\"].shuffle(seed=42)\n",
    "\n",
    "# Define labels\n",
    "num_labels = len(set(dataset['train']['label']))\n",
    "\n",
    "dataset1 = copy.deepcopy(dataset)"
   ]
  },
  {
   "cell_type": "code",
   "execution_count": 3,
   "metadata": {},
   "outputs": [
    {
     "name": "stdout",
     "output_type": "stream",
     "text": [
      "DatasetDict({\n",
      "    train: Dataset({\n",
      "        features: ['text', 'label'],\n",
      "        num_rows: 16000\n",
      "    })\n",
      "    validation: Dataset({\n",
      "        features: ['text', 'label'],\n",
      "        num_rows: 2000\n",
      "    })\n",
      "    test: Dataset({\n",
      "        features: ['text', 'label'],\n",
      "        num_rows: 2000\n",
      "    })\n",
      "})\n"
     ]
    }
   ],
   "source": [
    "\n",
    "train_size = int(1 * len(dataset1[\"train\"]))\n",
    "test_size = int(1 * len(dataset1[\"test\"]))\n",
    "val_size = int(1 * len(dataset1[\"validation\"]))\n",
    "\n",
    "dataset[\"train\"] = dataset1[\"train\"].select(range(train_size))\n",
    "dataset[\"test\"] = dataset1[\"test\"].select(range(test_size))\n",
    "dataset[\"validation\"] = dataset1[\"validation\"].select(range(val_size))\n",
    "print(dataset)"
   ]
  },
  {
   "cell_type": "code",
   "execution_count": 4,
   "metadata": {},
   "outputs": [
    {
     "name": "stdout",
     "output_type": "stream",
     "text": [
      "Train Set:\n",
      "Total Samples: 16000\n",
      "Class 0: 4666 samples (29.16%)\n",
      "Class 1: 5362 samples (33.51%)\n",
      "Class 2: 1304 samples (8.15%)\n",
      "Class 3: 2159 samples (13.49%)\n",
      "Class 4: 1937 samples (12.11%)\n",
      "Class 5: 572 samples (3.57%)\n",
      "\n",
      "Validation Set:\n",
      "Total Samples: 2000\n",
      "Class 0: 550 samples (27.50%)\n",
      "Class 1: 704 samples (35.20%)\n",
      "Class 2: 178 samples (8.90%)\n",
      "Class 3: 275 samples (13.75%)\n",
      "Class 4: 212 samples (10.60%)\n",
      "Class 5: 81 samples (4.05%)\n",
      "\n",
      "Test Set:\n",
      "Total Samples: 2000\n",
      "Class 0: 581 samples (29.05%)\n",
      "Class 1: 695 samples (34.75%)\n",
      "Class 2: 159 samples (7.95%)\n",
      "Class 3: 275 samples (13.75%)\n",
      "Class 4: 224 samples (11.20%)\n",
      "Class 5: 66 samples (3.30%)\n",
      "bert_finetuning_dataset:\n",
      "Total Samples: 8000\n",
      "Class 0: 2354 samples (29.43%)\n",
      "Class 1: 2697 samples (33.71%)\n",
      "Class 2: 650 samples (8.12%)\n",
      "Class 3: 1071 samples (13.39%)\n",
      "Class 4: 956 samples (11.95%)\n",
      "Class 5: 272 samples (3.40%)\n",
      "\n",
      "roberta_finetuning_dataset:\n",
      "Total Samples: 8000\n",
      "Class 0: 2343 samples (29.29%)\n",
      "Class 1: 2716 samples (33.95%)\n",
      "Class 2: 649 samples (8.11%)\n",
      "Class 3: 1081 samples (13.51%)\n",
      "Class 4: 937 samples (11.71%)\n",
      "Class 5: 274 samples (3.43%)\n",
      "\n",
      "xlnet_finetuning_dataset:\n",
      "Total Samples: 8000\n",
      "Class 0: 2345 samples (29.31%)\n",
      "Class 1: 2708 samples (33.85%)\n",
      "Class 2: 668 samples (8.35%)\n",
      "Class 3: 1068 samples (13.35%)\n",
      "Class 4: 928 samples (11.60%)\n",
      "Class 5: 283 samples (3.54%)\n"
     ]
    }
   ],
   "source": [
    "import collections\n",
    "\n",
    "# Function to count labels in each split\n",
    "def get_label_distribution(dataset_split):\n",
    "    labels = dataset_split[\"label\"]\n",
    "    label_counts = collections.Counter(labels)\n",
    "    total_samples = len(labels)\n",
    "    \n",
    "    print(f\"Total Samples: {total_samples}\")\n",
    "    for label, count in sorted(label_counts.items()):\n",
    "        print(f\"Class {label}: {count} samples ({(count / total_samples) * 100:.2f}%)\")\n",
    "\n",
    "# Check class distribution in Train, Validation, and Test sets\n",
    "print(\"Train Set:\")\n",
    "get_label_distribution(dataset[\"train\"])\n",
    "\n",
    "print(\"\\nValidation Set:\")\n",
    "get_label_distribution(dataset[\"validation\"])\n",
    "\n",
    "print(\"\\nTest Set:\")\n",
    "get_label_distribution(dataset[\"test\"])\n",
    "\n",
    "# Split train dataset into 3 sets as per your partitioning plan\n",
    "bert_finetuning_dataset = dataset[\"train\"].select(range(0, 8000))  # Samples 1 - 8000\n",
    "roberta_finetuning_dataset = dataset[\"train\"].select(range(2000, 10000))  # Samples 2001 - 10000\n",
    "xlnet_finetuning_dataset = dataset[\"train\"].select(range(4000, 12000))  # Samples 4001 - 12000\n",
    "\n",
    "print(\"bert_finetuning_dataset:\")\n",
    "get_label_distribution(bert_finetuning_dataset)\n",
    "\n",
    "print(\"\\nroberta_finetuning_dataset:\")\n",
    "get_label_distribution(roberta_finetuning_dataset)\n",
    "\n",
    "print(\"\\nxlnet_finetuning_dataset:\")\n",
    "get_label_distribution(xlnet_finetuning_dataset)"
   ]
  },
  {
   "cell_type": "markdown",
   "metadata": {},
   "source": [
    " Define Base Models (BERT, RoBERTa, XLNet)"
   ]
  },
  {
   "cell_type": "code",
   "execution_count": null,
   "metadata": {},
   "outputs": [],
   "source": [
    "from transformers import AutoTokenizer, AutoModelForSequenceClassification, AutoModel\n",
    "import torch\n",
    "from transformers import DataCollatorWithPadding\n",
    "from torch.utils.data import DataLoader\n",
    "import numpy as np\n",
    "from sklearn.model_selection import train_test_split\n",
    "import torch.nn as nn\n",
    "import torch.optim as optim\n",
    "import torch.utils.data as data\n",
    "import matplotlib.pyplot as plt\n",
    "from transformers import get_scheduler\n",
    "from torch.optim import AdamW\n",
    "from tqdm import tqdm\n",
    "from sklearn.metrics import accuracy_score, precision_score, recall_score, f1_score\n",
    "\n",
    "# Define Transformer Models\n",
    "MODEL_NAMES = {\n",
    "    \"bert\": \"bert-base-uncased\",\n",
    "    \"roberta\": \"roberta-base\",\n",
    "    \"xlnet\": \"xlnet-base-cased\"\n",
    "}\n",
    "\n",
    "tokenizers = {name: AutoTokenizer.from_pretrained(model) for name, model in MODEL_NAMES.items()}\n",
    "models = {name: AutoModel.from_pretrained(model) for name, model in MODEL_NAMES.items()}\n",
    "\n",
    "bert_cl_model = AutoModelForSequenceClassification.from_pretrained(MODEL_NAMES[\"bert\"], num_labels=num_labels)\n",
    "roberta_cl_model = AutoModelForSequenceClassification.from_pretrained(MODEL_NAMES[\"roberta\"], num_labels=num_labels)\n",
    "xlnet_cl_model = AutoModelForSequenceClassification.from_pretrained(MODEL_NAMES[\"xlnet\"], num_labels=num_labels)\n"
   ]
  },
  {
   "cell_type": "markdown",
   "metadata": {},
   "source": [
    "Load tokenizers and models"
   ]
  },
  {
   "cell_type": "code",
   "execution_count": 7,
   "metadata": {},
   "outputs": [],
   "source": [
    "bert_tokenizer = tokenizers[\"bert\"]\n",
    "# Tokenize dataset\n",
    "def tokenize_function(examples):\n",
    "    return bert_tokenizer(examples[\"text\"], padding=\"max_length\", truncation=True, max_length=128)\n",
    "\n",
    "tokenized_datasets = bert_finetuning_dataset.map(tokenize_function, batched=True)\n",
    "\n",
    "# Remove text column, rename label column\n",
    "tokenized_datasets = tokenized_datasets.remove_columns([\"text\"]).rename_column(\"label\", \"labels\")\n",
    "tokenized_datasets.set_format(\"torch\")\n",
    "\n",
    "# Data collator for dynamic padding\n",
    "data_collator = DataCollatorWithPadding(tokenizer=bert_tokenizer, return_tensors=\"pt\")\n",
    "\n",
    "# Define batch size\n",
    "batch_size = 32\n",
    "\n",
    "# Create DataLoader for bert_finetuning_dataset\n",
    "train_dataloader = DataLoader(\n",
    "    tokenized_datasets,  # Use the tokenized version\n",
    "    batch_size=batch_size,\n",
    "    shuffle=True,  # Shuffle data for better training\n",
    "    collate_fn=data_collator  # Ensures padding works dynamically\n",
    ")\n",
    "\n",
    "\n",
    "\n",
    "roberta_tokenizer = tokenizers[\"roberta\"]\n",
    "# Tokenize dataset\n",
    "def tokenize_function1(examples):\n",
    "    return roberta_tokenizer(examples[\"text\"], padding=\"max_length\", truncation=True, max_length=128)\n",
    "\n",
    "tokenized_datasets1 = roberta_finetuning_dataset.map(tokenize_function1, batched=True)\n",
    "\n",
    "# Remove text column, rename label column\n",
    "tokenized_datasets1 = tokenized_datasets1.remove_columns([\"text\"]).rename_column(\"label\", \"labels\")\n",
    "tokenized_datasets1.set_format(\"torch\")\n",
    "\n",
    "# Data collator for dynamic padding\n",
    "data_collator1 = DataCollatorWithPadding(tokenizer=roberta_tokenizer, return_tensors=\"pt\")\n",
    "\n",
    "# Create DataLoader for roberta_finetuning_dataset\n",
    "train_dataloader1 = DataLoader(\n",
    "    tokenized_datasets1,  # Use the tokenized version\n",
    "    batch_size=batch_size,\n",
    "    shuffle=True,  # Shuffle data for better training\n",
    "    collate_fn=data_collator1  # Ensures padding works dynamically\n",
    ")\n",
    "\n",
    "\n",
    "\n",
    "xlnet_tokenizer = tokenizers[\"xlnet\"]\n",
    "# Tokenize dataset\n",
    "def tokenize_function2(examples):\n",
    "    return xlnet_tokenizer(examples[\"text\"], padding=\"max_length\", truncation=True, max_length=128)\n",
    "\n",
    "tokenized_datasets2 = xlnet_finetuning_dataset.map(tokenize_function2, batched=True)\n",
    "\n",
    "# Remove text column, rename label column\n",
    "tokenized_datasets2 = tokenized_datasets2.remove_columns([\"text\"]).rename_column(\"label\", \"labels\")\n",
    "tokenized_datasets2.set_format(\"torch\")\n",
    "\n",
    "# Data collator for dynamic padding\n",
    "data_collator2 = DataCollatorWithPadding(tokenizer=xlnet_tokenizer, return_tensors=\"pt\")\n",
    "\n",
    "# Create DataLoader for xlnet_finetuning_dataset\n",
    "train_dataloader2 = DataLoader(\n",
    "    tokenized_datasets2,  # Use the tokenized version\n",
    "    batch_size=batch_size,\n",
    "    shuffle=True,  # Shuffle data for better training\n",
    "    collate_fn=data_collator2  # Ensures padding works dynamically\n",
    ")"
   ]
  },
  {
   "cell_type": "code",
   "execution_count": null,
   "metadata": {},
   "outputs": [
    {
     "name": "stderr",
     "output_type": "stream",
     "text": [
      "Epoch 1/3: 100%|██████████| 250/250 [36:23<00:00,  8.73s/it, acc=0.759, loss=0.409] \n",
      "Epoch 2/3: 100%|██████████| 250/250 [34:33<00:00,  8.29s/it, acc=0.939, loss=0.201] \n",
      "Epoch 3/3: 100%|██████████| 250/250 [44:52<00:00, 10.77s/it, acc=0.96, loss=0.0373]  "
     ]
    },
    {
     "name": "stdout",
     "output_type": "stream",
     "text": [
      "Training Complete!\n"
     ]
    },
    {
     "name": "stderr",
     "output_type": "stream",
     "text": [
      "\n"
     ]
    }
   ],
   "source": [
    "# fine tuning of bert model\n",
    "\n",
    "# Set device\n",
    "device = torch.device(\"cuda\" if torch.cuda.is_available() else \"cpu\")\n",
    "bert_cl_model.to(device)\n",
    "\n",
    "# Freeze all layers except the last 3\n",
    "for name, param in bert_cl_model.named_parameters():\n",
    "    if \"encoder.layer\" in name and name.split(\".\")[2].isdigit():  # Ensure it's a number\n",
    "        layer_num = int(name.split(\".\")[2])  # Extract layer index\n",
    "        if layer_num < 9:  # Freeze first 9 layers, train last 3\n",
    "            param.requires_grad = False\n",
    "\n",
    "# Ensure classification head is trainable\n",
    "for param in bert_cl_model.classifier.parameters():\n",
    "    param.requires_grad = True\n",
    "\n",
    "\n",
    "# Use AdamW optimizer\n",
    "optimizer = AdamW(filter(lambda p: p.requires_grad, bert_cl_model.parameters()), lr=5e-5)\n",
    "\n",
    "# Learning rate scheduler\n",
    "lr_scheduler = get_scheduler(\"linear\", optimizer=optimizer, num_warmup_steps=0, num_training_steps=len(train_dataloader) * 3)\n",
    "\n",
    "# Loss function\n",
    "loss_fn = torch.nn.CrossEntropyLoss()\n",
    "\n",
    "# Training loop\n",
    "epochs = 3\n",
    "for epoch in range(epochs):\n",
    "    bert_cl_model.train()\n",
    "    total_loss, total_correct = 0, 0\n",
    "    loop = tqdm(train_dataloader, leave=True)\n",
    "    \n",
    "    for batch in loop:\n",
    "        batch = {k: v.to(device) for k, v in batch.items()}\n",
    "        optimizer.zero_grad()\n",
    "\n",
    "        # Forward pass\n",
    "        outputs = bert_cl_model(**batch)\n",
    "        loss = loss_fn(outputs.logits, batch[\"labels\"])\n",
    "        loss.backward()\n",
    "\n",
    "        # Optimization step\n",
    "        optimizer.step()\n",
    "        lr_scheduler.step()\n",
    "\n",
    "        # Metrics tracking\n",
    "        total_loss += loss.item()\n",
    "        total_correct += (outputs.logits.argmax(dim=1) == batch[\"labels\"]).sum().item()\n",
    "        \n",
    "        loop.set_description(f\"Epoch {epoch+1}/{epochs}\")\n",
    "        loop.set_postfix(loss=loss.item(), acc=total_correct / len(train_dataloader.dataset))\n",
    "\n",
    "print(\"Training Complete!\")\n",
    "\n"
   ]
  },
  {
   "cell_type": "code",
   "execution_count": 9,
   "metadata": {},
   "outputs": [
    {
     "data": {
      "text/plain": [
       "('bert_finetuned_emotion\\\\tokenizer_config.json',\n",
       " 'bert_finetuned_emotion\\\\special_tokens_map.json',\n",
       " 'bert_finetuned_emotion\\\\vocab.txt',\n",
       " 'bert_finetuned_emotion\\\\added_tokens.json',\n",
       " 'bert_finetuned_emotion\\\\tokenizer.json')"
      ]
     },
     "execution_count": 9,
     "metadata": {},
     "output_type": "execute_result"
    }
   ],
   "source": [
    "bert_cl_model.save_pretrained(\"bert_finetuned_emotion\")\n",
    "bert_tokenizer.save_pretrained(\"bert_finetuned_emotion\")"
   ]
  },
  {
   "cell_type": "code",
   "execution_count": 10,
   "metadata": {},
   "outputs": [
    {
     "name": "stderr",
     "output_type": "stream",
     "text": [
      "Epoch 1/5: 100%|██████████| 250/250 [34:45<00:00,  8.34s/it, acc=0.733, loss=0.2]  \n",
      "Epoch 2/5: 100%|██████████| 250/250 [35:03<00:00,  8.41s/it, acc=0.918, loss=0.29]  \n",
      "Epoch 3/5: 100%|██████████| 250/250 [35:05<00:00,  8.42s/it, acc=0.945, loss=0.0225]\n",
      "Epoch 4/5: 100%|██████████| 250/250 [34:55<00:00,  8.38s/it, acc=0.957, loss=0.382] \n",
      "Epoch 5/5: 100%|██████████| 250/250 [35:29<00:00,  8.52s/it, acc=0.955, loss=0.0307] "
     ]
    },
    {
     "name": "stdout",
     "output_type": "stream",
     "text": [
      "Training Complete!\n"
     ]
    },
    {
     "name": "stderr",
     "output_type": "stream",
     "text": [
      "\n"
     ]
    }
   ],
   "source": [
    "# Freeze all layers except the last 3\n",
    "for name, param in roberta_cl_model.named_parameters():\n",
    "    if \"encoder.layer\" in name and name.split(\".\")[2].isdigit():  # Ensure it's a number\n",
    "        layer_num = int(name.split(\".\")[2])  # Extract layer index\n",
    "        if layer_num < 9:  # Freeze first 9 layers, train last 3\n",
    "            param.requires_grad = False\n",
    "\n",
    "# Ensure classification head is trainable\n",
    "for param in roberta_cl_model.classifier.parameters():\n",
    "    param.requires_grad = True\n",
    "\n",
    "# Use AdamW optimizer\n",
    "optimizer = AdamW(filter(lambda p: p.requires_grad, roberta_cl_model.parameters()), lr=5e-5)\n",
    "\n",
    "# Learning rate scheduler\n",
    "lr_scheduler = get_scheduler(\n",
    "    \"linear\", optimizer=optimizer, num_warmup_steps=0, num_training_steps=len(train_dataloader1) * 3\n",
    ")\n",
    "\n",
    "# Loss function\n",
    "loss_fn = torch.nn.CrossEntropyLoss()\n",
    "\n",
    "# Training loop\n",
    "epochs = 5\n",
    "for epoch in range(epochs):\n",
    "    roberta_cl_model.train()\n",
    "    total_loss, total_correct = 0, 0\n",
    "    loop = tqdm(train_dataloader1, leave=True)\n",
    "    \n",
    "    for batch in loop:\n",
    "        batch = {k: v.to(device) for k, v in batch.items()}\n",
    "        optimizer.zero_grad()\n",
    "\n",
    "        # Forward pass\n",
    "        outputs = roberta_cl_model(**batch)\n",
    "        loss = loss_fn(outputs.logits, batch[\"labels\"])\n",
    "        loss.backward()\n",
    "\n",
    "        # Optimization step\n",
    "        optimizer.step()\n",
    "        lr_scheduler.step()\n",
    "\n",
    "        # Metrics tracking\n",
    "        total_loss += loss.item()\n",
    "        total_correct += (outputs.logits.argmax(dim=1) == batch[\"labels\"]).sum().item()\n",
    "        \n",
    "        loop.set_description(f\"Epoch {epoch+1}/{epochs}\")\n",
    "        loop.set_postfix(loss=loss.item(), acc=total_correct / len(train_dataloader1.dataset))\n",
    "\n",
    "print(\"Training Complete!\")"
   ]
  },
  {
   "cell_type": "code",
   "execution_count": 11,
   "metadata": {},
   "outputs": [
    {
     "data": {
      "text/plain": [
       "('roberta_finetuned_emotion\\\\tokenizer_config.json',\n",
       " 'roberta_finetuned_emotion\\\\special_tokens_map.json',\n",
       " 'roberta_finetuned_emotion\\\\vocab.json',\n",
       " 'roberta_finetuned_emotion\\\\merges.txt',\n",
       " 'roberta_finetuned_emotion\\\\added_tokens.json',\n",
       " 'roberta_finetuned_emotion\\\\tokenizer.json')"
      ]
     },
     "execution_count": 11,
     "metadata": {},
     "output_type": "execute_result"
    }
   ],
   "source": [
    "# Save RoBERTa model & tokenizer\n",
    "roberta_cl_model.save_pretrained(\"roberta_finetuned_emotion\")\n",
    "roberta_tokenizer.save_pretrained(\"roberta_finetuned_emotion\")"
   ]
  },
  {
   "cell_type": "code",
   "execution_count": 12,
   "metadata": {},
   "outputs": [
    {
     "name": "stderr",
     "output_type": "stream",
     "text": [
      "Epoch 1/4: 100%|██████████| 250/250 [48:38<00:00, 11.68s/it, acc=0.555, loss=0.873] \n",
      "Epoch 2/4: 100%|██████████| 250/250 [38:12<00:00,  9.17s/it, acc=0.741, loss=0.857]\n",
      "Epoch 3/4: 100%|██████████| 250/250 [37:27<00:00,  8.99s/it, acc=0.786, loss=0.616]\n",
      "Epoch 4/4: 100%|██████████| 250/250 [37:40<00:00,  9.04s/it, acc=0.796, loss=0.802]"
     ]
    },
    {
     "name": "stdout",
     "output_type": "stream",
     "text": [
      "Training Complete!\n"
     ]
    },
    {
     "name": "stderr",
     "output_type": "stream",
     "text": [
      "\n"
     ]
    }
   ],
   "source": [
    "\n",
    "# Freeze all layers except the last 3\n",
    "for name, param in xlnet_cl_model.named_parameters():\n",
    "    if \"transformer.layer\" in name and name.split(\".\")[2].isdigit():  # Ensure it's a number\n",
    "        layer_num = int(name.split(\".\")[2])  # Extract layer index\n",
    "        if layer_num < 9:  # Freeze first 9 layers, train last 3\n",
    "            param.requires_grad = False\n",
    "\n",
    "# Ensure classification head is trainable\n",
    "for param in xlnet_cl_model.logits_proj.parameters():  # XLNet uses `logits_proj`\n",
    "    param.requires_grad = True\n",
    "\n",
    "# Use AdamW optimizer\n",
    "optimizer = AdamW(filter(lambda p: p.requires_grad, xlnet_cl_model.parameters()), lr=5e-5)\n",
    "\n",
    "# Learning rate scheduler\n",
    "lr_scheduler = get_scheduler(\n",
    "    \"linear\", optimizer=optimizer, num_warmup_steps=0, num_training_steps=len(train_dataloader2) * 3\n",
    ")\n",
    "\n",
    "# Loss function\n",
    "loss_fn = torch.nn.CrossEntropyLoss()\n",
    "\n",
    "# Training loop\n",
    "epochs = 4\n",
    "for epoch in range(epochs):\n",
    "    xlnet_cl_model.train()\n",
    "    total_loss, total_correct = 0, 0\n",
    "    loop = tqdm(train_dataloader2, leave=True)\n",
    "    \n",
    "    for batch in loop:\n",
    "        batch = {k: v.to(device) for k, v in batch.items()}\n",
    "        optimizer.zero_grad()\n",
    "\n",
    "        # Forward pass\n",
    "        outputs = xlnet_cl_model(**batch)\n",
    "        loss = loss_fn(outputs.logits, batch[\"labels\"])\n",
    "        loss.backward()\n",
    "\n",
    "        # Optimization step\n",
    "        optimizer.step()\n",
    "        lr_scheduler.step()\n",
    "\n",
    "        # Metrics tracking\n",
    "        total_loss += loss.item()\n",
    "        total_correct += (outputs.logits.argmax(dim=1) == batch[\"labels\"]).sum().item()\n",
    "        \n",
    "        loop.set_description(f\"Epoch {epoch+1}/{epochs}\")\n",
    "        loop.set_postfix(loss=loss.item(), acc=total_correct / len(train_dataloader2.dataset))\n",
    "\n",
    "print(\"Training Complete!\")"
   ]
  },
  {
   "cell_type": "code",
   "execution_count": 13,
   "metadata": {},
   "outputs": [
    {
     "data": {
      "text/plain": [
       "('xlnet_finetuned_emotion\\\\tokenizer_config.json',\n",
       " 'xlnet_finetuned_emotion\\\\special_tokens_map.json',\n",
       " 'xlnet_finetuned_emotion\\\\tokenizer.json')"
      ]
     },
     "execution_count": 13,
     "metadata": {},
     "output_type": "execute_result"
    }
   ],
   "source": [
    "# Save XLNet model & tokenizer\n",
    "xlnet_cl_model.save_pretrained(\"xlnet_finetuned_emotion\")\n",
    "xlnet_tokenizer.save_pretrained(\"xlnet_finetuned_emotion\")"
   ]
  },
  {
   "cell_type": "code",
   "execution_count": 7,
   "metadata": {},
   "outputs": [
    {
     "name": "stdout",
     "output_type": "stream",
     "text": [
      "\n",
      "Testing BERT Model...\n"
     ]
    },
    {
     "name": "stderr",
     "output_type": "stream",
     "text": [
      "100%|██████████| 125/125 [00:51<00:00,  2.44it/s]\n"
     ]
    },
    {
     "name": "stdout",
     "output_type": "stream",
     "text": [
      "BERT Test Metrics:\n",
      "  Accuracy: 0.9295\n",
      "  Precision: 0.9304\n",
      "  Recall: 0.9295\n",
      "  F1-score: 0.9298\n",
      "\n",
      "Per-Class Metrics:\n",
      "              precision    recall  f1-score   support\n",
      "\n",
      "           0     0.9672    0.9639    0.9655       581\n",
      "           1     0.9481    0.9468    0.9474       695\n",
      "           2     0.8397    0.8239    0.8317       159\n",
      "           3     0.9273    0.9273    0.9273       275\n",
      "           4     0.9091    0.8929    0.9009       224\n",
      "           5     0.7237    0.8333    0.7746        66\n",
      "\n",
      "    accuracy                         0.9295      2000\n",
      "   macro avg     0.8859    0.8980    0.8913      2000\n",
      "weighted avg     0.9304    0.9295    0.9298      2000\n",
      "\n",
      "\n",
      "Testing ROBERTA Model...\n"
     ]
    },
    {
     "name": "stderr",
     "output_type": "stream",
     "text": [
      "100%|██████████| 125/125 [00:49<00:00,  2.51it/s]\n"
     ]
    },
    {
     "name": "stdout",
     "output_type": "stream",
     "text": [
      "ROBERTA Test Metrics:\n",
      "  Accuracy: 0.9245\n",
      "  Precision: 0.9267\n",
      "  Recall: 0.9245\n",
      "  F1-score: 0.9246\n",
      "\n",
      "Per-Class Metrics:\n",
      "              precision    recall  f1-score   support\n",
      "\n",
      "           0     0.9651    0.9518    0.9584       581\n",
      "           1     0.9610    0.9223    0.9413       695\n",
      "           2     0.7889    0.8931    0.8378       159\n",
      "           3     0.9176    0.9309    0.9242       275\n",
      "           4     0.8594    0.9554    0.9049       224\n",
      "           5     0.8269    0.6515    0.7288        66\n",
      "\n",
      "    accuracy                         0.9245      2000\n",
      "   macro avg     0.8865    0.8842    0.8825      2000\n",
      "weighted avg     0.9267    0.9245    0.9246      2000\n",
      "\n",
      "\n",
      "Testing XLNET Model...\n"
     ]
    },
    {
     "name": "stderr",
     "output_type": "stream",
     "text": [
      "100%|██████████| 125/125 [01:11<00:00,  1.75it/s]"
     ]
    },
    {
     "name": "stdout",
     "output_type": "stream",
     "text": [
      "XLNET Test Metrics:\n",
      "  Accuracy: 0.8055\n",
      "  Precision: 0.8061\n",
      "  Recall: 0.8055\n",
      "  F1-score: 0.8051\n",
      "\n",
      "Per-Class Metrics:\n",
      "              precision    recall  f1-score   support\n",
      "\n",
      "           0     0.8487    0.8399    0.8443       581\n",
      "           1     0.8799    0.8647    0.8723       695\n",
      "           2     0.6053    0.5786    0.5916       159\n",
      "           3     0.7897    0.7782    0.7839       275\n",
      "           4     0.7034    0.8259    0.7598       224\n",
      "           5     0.5536    0.4697    0.5082        66\n",
      "\n",
      "    accuracy                         0.8055      2000\n",
      "   macro avg     0.7301    0.7262    0.7267      2000\n",
      "weighted avg     0.8061    0.8055    0.8051      2000\n",
      "\n"
     ]
    },
    {
     "name": "stderr",
     "output_type": "stream",
     "text": [
      "\n"
     ]
    }
   ],
   "source": [
    "from sklearn.metrics import accuracy_score, precision_recall_fscore_support, classification_report\n",
    "\n",
    "test_data = dataset[\"test\"]\n",
    "\n",
    "model_paths = {\n",
    "    \"bert\": \"bert_finetuned_emotion\",   \n",
    "    \"roberta\": \"roberta_finetuned_emotion\",  \n",
    "    \"xlnet\": \"xlnet_finetuned_emotion\" \n",
    "}\n",
    "\n",
    "# Define function for testing\n",
    "def test_model(model_name, model_path, test_data):\n",
    "    print(f\"\\nTesting {model_name.upper()} Model...\")\n",
    "\n",
    "    # Load tokenizer and model\n",
    "    tokenizer = AutoTokenizer.from_pretrained(model_path)\n",
    "    model = AutoModelForSequenceClassification.from_pretrained(model_path)\n",
    "    model.eval()  # Set model to evaluation mode\n",
    "\n",
    "    # Convert dataset to PyTorch DataLoader\n",
    "    test_dataloader = DataLoader(test_data, batch_size=16)\n",
    "\n",
    "    all_preds, all_labels = [], []\n",
    "\n",
    "    with torch.no_grad():\n",
    "        for batch in tqdm(test_dataloader):\n",
    "            # Tokenize input texts properly\n",
    "            text = batch[\"text\"]  # Extract text from batch\n",
    "            inputs = tokenizer(text, return_tensors=\"pt\", truncation=True, padding=True, max_length=128)\n",
    "\n",
    "            # Move tensors to model's device (CPU/GPU)\n",
    "            inputs = {key: val.to(model.device) for key, val in inputs.items()}\n",
    "            labels = batch[\"label\"].to(model.device)\n",
    "\n",
    "            # Get model outputs\n",
    "            outputs = model(**inputs)\n",
    "            preds = torch.argmax(outputs.logits, dim=1)\n",
    "\n",
    "            # Store predictions and labels\n",
    "            all_preds.extend(preds.cpu().numpy())\n",
    "            all_labels.extend(labels.cpu().numpy())\n",
    "\n",
    "    all_preds = np.array(all_preds)\n",
    "    all_labels = np.array(all_labels)\n",
    "\n",
    "    # Calculate overall metrics\n",
    "    accuracy = accuracy_score(all_labels, all_preds)\n",
    "    precision, recall, f1, _ = precision_recall_fscore_support(all_labels, all_preds, average='weighted')\n",
    "\n",
    "    print(f\"{model_name.upper()} Test Metrics:\")\n",
    "    print(f\"  Accuracy: {accuracy:.4f}\")\n",
    "    print(f\"  Precision: {precision:.4f}\")\n",
    "    print(f\"  Recall: {recall:.4f}\")\n",
    "    print(f\"  F1-score: {f1:.4f}\")\n",
    "\n",
    "    # Per-class metrics\n",
    "    print(\"\\nPer-Class Metrics:\")\n",
    "    report = classification_report(all_labels, all_preds, digits=4)\n",
    "    print(classification_report(all_labels, all_preds, digits=4))\n",
    "\n",
    "    with open(\"classification_report_\" + model_name + \".txt\", \"w\") as f:\n",
    "        f.write(report)\n",
    "    \n",
    "    return all_preds, all_labels\n",
    "\n",
    "# Run testing for each model\n",
    "results = {}\n",
    "for model_name, model_path in model_paths.items():\n",
    "    preds, labels = test_model(model_name, model_path, test_data)\n",
    "    results[model_name] = (preds, labels)\n"
   ]
  },
  {
   "cell_type": "code",
   "execution_count": 15,
   "metadata": {},
   "outputs": [],
   "source": [
    "def get_embedding(text, model_name):\n",
    "    \n",
    "    tokenizer = AutoTokenizer.from_pretrained(model_name + \"_finetuned_emotion\")\n",
    "    model = AutoModelForSequenceClassification.from_pretrained(model_name + \"_finetuned_emotion\")\n",
    "    model.eval()\n",
    "\n",
    "    inputs = tokenizer(text, return_tensors=\"pt\", truncation=True, padding=True, max_length=128)\n",
    "    with torch.no_grad():\n",
    "        outputs = model(**inputs,  output_hidden_states=True)\n",
    "\n",
    "    # Extract hidden states\n",
    "    hidden_states = outputs.hidden_states\n",
    "\n",
    "    if model_name in [\"bert\", \"roberta\"]:\n",
    "    # Get CLS token embedding (pooled output)\n",
    "        cls_embedding = hidden_states[-1][:, 0, :]  # (batch_size, hidden_dim)\n",
    "\n",
    "    elif model_name == \"xlnet\":\n",
    "    # XLNet doesn't have CLS token, so take last token's hidden state\n",
    "        cls_embedding = hidden_states[-1][:, -1, :] \n",
    "    \n",
    "    return cls_embedding.squeeze(0).numpy()\n",
    "\n",
    "# explanation : https://chatgpt.com/share/67dd43dc-27d4-8002-bae8-fc18bc074e0d\n"
   ]
  },
  {
   "cell_type": "code",
   "execution_count": 16,
   "metadata": {},
   "outputs": [],
   "source": [
    "\n",
    "# Prepare dataset embeddings\n",
    "def prepare_data(dataset, model_name):\n",
    "    texts = dataset['text']\n",
    "    labels = dataset['label']\n",
    "    \n",
    "    # embeddings = np.array([get_embedding(text, model_name) for text in texts])\n",
    "    embeddings_list = []\n",
    "    tem=0\n",
    "    for text in texts:\n",
    "        tem=tem+1\n",
    "        print(f\"{model_name} - sentence {tem}\")  # Print message\n",
    "        embedding = get_embedding(text, model_name)\n",
    "        embeddings_list.append(embedding)\n",
    "\n",
    "    embeddings = np.array(embeddings_list)\n",
    "\n",
    "    # dimensions for embeddings ---> (no.of samples * 768)\n",
    "    return embeddings, np.array(labels)\n",
    "\n",
    "# explanation : https://chatgpt.com/share/67dd486b-28c8-8002-83a0-3412887e8924\n"
   ]
  },
  {
   "cell_type": "code",
   "execution_count": null,
   "metadata": {},
   "outputs": [],
   "source": [
    "# Get embeddings for all three datasets\n",
    "\n",
    "bert_train, y_train = prepare_data(dataset[\"train\"], \"bert\")\n",
    "bert_val, y_val  = prepare_data(dataset[\"validation\"], \"bert\")\n",
    "bert_test, y_test = prepare_data(dataset[\"test\"], \"bert\")\n"
   ]
  },
  {
   "cell_type": "code",
   "execution_count": null,
   "metadata": {},
   "outputs": [],
   "source": [
    "\n",
    "roberta_train, _ = prepare_data(dataset[\"train\"], \"roberta\")\n",
    "roberta_val, _ = prepare_data(dataset[\"validation\"], \"roberta\")\n",
    "roberta_test, _ = prepare_data(dataset[\"test\"], \"roberta\")"
   ]
  },
  {
   "cell_type": "code",
   "execution_count": null,
   "metadata": {},
   "outputs": [],
   "source": [
    "\n",
    "xlnet_train, _ = prepare_data(dataset[\"train\"], \"xlnet\")\n",
    "xlnet_val, _ = prepare_data(dataset[\"validation\"], \"xlnet\")\n",
    "xlnet_test, _ = prepare_data(dataset[\"test\"], \"xlnet\")"
   ]
  },
  {
   "cell_type": "code",
   "execution_count": 27,
   "metadata": {},
   "outputs": [],
   "source": [
    "# Save embeddings and labels\n",
    "\n",
    "np.save(\"bert_train.npy\", bert_train)\n",
    "np.save(\"bert_val.npy\", bert_val)\n",
    "np.save(\"bert_test.npy\", bert_test)\n",
    "\n",
    "np.save(\"roberta_train.npy\", roberta_train)\n",
    "np.save(\"roberta_val.npy\", roberta_val)\n",
    "np.save(\"roberta_test.npy\", roberta_test)\n",
    "\n",
    "np.save(\"xlnet_train.npy\", xlnet_train)\n",
    "np.save(\"xlnet_val.npy\", xlnet_val)\n",
    "np.save(\"xlnet_test.npy\", xlnet_test)\n",
    "\n",
    "np.save(\"y_train.npy\", y_train)\n",
    "np.save(\"y_val.npy\", y_val)\n",
    "np.save(\"y_test.npy\", y_test)\n"
   ]
  }
 ],
 "metadata": {
  "kernelspec": {
   "display_name": "myenv",
   "language": "python",
   "name": "python3"
  },
  "language_info": {
   "codemirror_mode": {
    "name": "ipython",
    "version": 3
   },
   "file_extension": ".py",
   "mimetype": "text/x-python",
   "name": "python",
   "nbconvert_exporter": "python",
   "pygments_lexer": "ipython3",
   "version": "3.12.7"
  }
 },
 "nbformat": 4,
 "nbformat_minor": 2
}
